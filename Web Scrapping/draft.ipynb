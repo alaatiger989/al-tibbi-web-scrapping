{
 "cells": [
  {
   "cell_type": "code",
   "execution_count": 37,
   "id": "310ef5fe",
   "metadata": {},
   "outputs": [],
   "source": [
    "import requests\n",
    "from requests.adapters import HTTPAdapter\n",
    "from urllib3.util.retry import Retry\n",
    "from bs4 import BeautifulSoup\n",
    "import csv\n",
    "from selenium import webdriver\n",
    "from selenium.webdriver.chrome.options import Options\n",
    "from selenium.webdriver.chrome.service import Service"
   ]
  },
  {
   "cell_type": "code",
   "execution_count": 49,
   "id": "dce1d834",
   "metadata": {},
   "outputs": [],
   "source": [
    "chrome_options = Options()\n",
    "chrome_options.add_argument('--headless')\n",
    "chrome_options.add_argument('--no-sandbox')\n",
    "chrome_options.add_argument('--disable-dev-shm-usage')\n",
    "service = Service(executable_path='chromedriver.exe')\n",
    "options = webdriver.ChromeOptions()\n",
    "service = Service()\n",
    "driver = webdriver.Chrome(service=service)"
   ]
  },
  {
   "cell_type": "code",
   "execution_count": 59,
   "id": "f2e6a3d0",
   "metadata": {},
   "outputs": [],
   "source": [
    "def get_qna(container):\n",
    "    question_text = container.contents[1].find('div' , {'class': \"question-description-text\"}).text.strip()\n",
    "    print(question_text)\n",
    "    answer_text = container.contents[3].find('div' , {'class': \"doctor-answer\"}).text.strip()\n",
    "    print(answer_text)"
   ]
  },
  {
   "cell_type": "code",
   "execution_count": 60,
   "id": "636b1029",
   "metadata": {},
   "outputs": [],
   "source": [
    "def qna_main():\n",
    "    driver.implicitly_wait(30)\n",
    "    driver.get(\"https://altibbi.com/%D8%A7%D8%B3%D8%A6%D9%84%D8%A9-%D8%B7%D8%A8%D9%8A%D8%A9/%D8%A7%D9%84%D8%B7%D8%A8-%D8%A7%D9%84%D8%B9%D8%A7%D9%85/%D9%87%D8%B0%D9%8A-%D8%A7%D9%84%D9%86%D8%AA%D8%A7%D9%8A%D8%AC-%D9%88-%D8%A7%D8%AD%D8%AA%D8%A7%D8%AC-%D8%AA%D8%B4%D8%B1%D8%AD-%D9%84%D9%8A-%D8%A7%D9%84%D8%AA%D8%AD%D8%A7%D9%84%D9%8A%D9%84-%D9%85%D9%88-%D9%81%D8%A7%D9%87%D9%85%D8%AA%D9%87%D8%A7-%D9%83%D8%AB%D9%8A%D8%B1-1737917\")\n",
    "    soup = BeautifulSoup(driver.page_source, 'lxml')\n",
    "    container = soup.find_all(\"section\" , {'class' : \"question-and-answer-partial-wrapper\"})\n",
    "#     print(len(container))\n",
    "#     print(container[0])\n",
    "    get_qna(container[0])\n"
   ]
  },
  {
   "cell_type": "code",
   "execution_count": 61,
   "id": "73de1056",
   "metadata": {},
   "outputs": [
    {
     "name": "stdout",
     "output_type": "stream",
     "text": [
      "هذي النتايج و احتاج تشرح لي التحاليل مو فاهمتها كثير\n",
      "النتائج توضح وجود انخفاض بالعناصر الاساسية مثل فيتامين د والكالسيوم وكذلك حديد الدم ومخزون الحديد\n",
      "وهناك تحاليل سوية مجراة عن الغدة الدرقية والوظيفة الكلوية والكبدية و حمض البول والخضاب السكري كلها ضمن الحدود الطبيعية\n",
      "اخر فقرة توضح صورة الدم لتحديد نوع فقر الدم الموجود وغالبا في هذه الحالة النمطيه فقر دم بعوز الحديد\n",
      "لتحديد الخطة العلاجية يجب ذكر العمر والجنس وهل من اعراض محددة تشكو منها\n",
      "The Operation is success\n"
     ]
    }
   ],
   "source": [
    "try:\n",
    "    qna_main()\n",
    "except:\n",
    "    print(\"Connection timed out\")\n",
    "    qna_main()\n",
    "finally: \n",
    "    print(\"The Operation is success\")"
   ]
  },
  {
   "cell_type": "code",
   "execution_count": null,
   "id": "7a7ffaf8",
   "metadata": {},
   "outputs": [],
   "source": []
  }
 ],
 "metadata": {
  "kernelspec": {
   "display_name": "Python 3 (ipykernel)",
   "language": "python",
   "name": "python3"
  },
  "language_info": {
   "codemirror_mode": {
    "name": "ipython",
    "version": 3
   },
   "file_extension": ".py",
   "mimetype": "text/x-python",
   "name": "python",
   "nbconvert_exporter": "python",
   "pygments_lexer": "ipython3",
   "version": "3.11.4"
  }
 },
 "nbformat": 4,
 "nbformat_minor": 5
}
